{
 "cells": [
  {
   "cell_type": "markdown",
   "metadata": {},
   "source": [
    "<img src=\"https://www.ikiam.edu.ec/img/logo-ikiam-grey.png\" width=300 height=240 />\n",
    "\n",
    "# EXAMEN PARCIAL 1\n",
    "\n",
    "## GBI6-2021II: BIOINFORMÁTICA\n",
    "\n",
    "**Encarnación Vera, Nury Mabell** \n",
    "\n",
    "**11-01-2021**"
   ]
  },
  {
   "cell_type": "markdown",
   "metadata": {},
   "source": [
    "<font color='red'>NO AGREGUE NUEVAS CELDAS, UTILICE ÚNICAMENTE LAS QUE ESTÁN CREADAS</font>"
   ]
  },
  {
   "cell_type": "markdown",
   "metadata": {},
   "source": [
    "# 1. UNIX\n",
    "\n",
    "## Ejercicio 1\n",
    "Imprimir el directorio de trabajo actual \n",
    "Crear un directorio test1\n",
    "No cambie de directorio, pero los items 4, 5 y 6 deben guardarse en el directorio creado en el paso 2. \n",
    "Crear el archivo test1.txt\n",
    "Guardar el texto Hola GBI6 en un archivo test2.txt\n",
    "Guardar la instrucción print(\"Hola GBI6\")  en el archivo test1.py\n",
    "Luego seleccione la instrucción que imprima el número de caracteres de test2.txt\n",
    "\n",
    "<img src=\"data/imagenes/eje.png\" width=600 height=450 />\n",
    "<img src=\"data/imagenes/1.png\" width=600 height=450 />\n",
    "\n",
    "\n",
    "\n",
    "## Ejercicio 2\n",
    "Imprimir el directorio de trabajo actual \n",
    "Crear un directorio test1\n",
    "No cambie de directorio, pero los items 4, 5 y 6 deben guardarse en el directorio creado en el paso 2. \n",
    "Crear el archivo test1.txt\n",
    "Guardar el texto Hola GBI6 en un archivo test2.txt\n",
    "Guardar la instrucción print(\"Hola GBI6\")  en el archivo test1.py\n",
    "Luego seleccione la instrucción que enlista los archivos del directorio test1 y luego imprima el contenido\n",
    "\n",
    "<img src=\"data/imagenes/eje.png\" width=600 height=450 />\n",
    "<img src=\"data/imagenes/2.png\" width=600 height=450 />\n",
    "\n",
    "\n",
    "## Ejercicio 3\n",
    "Imprimir el directorio de trabajo actual \n",
    "Crear un directorio test1\n",
    "No cambie de directorio, pero los items 4, 5 y 6 deben guardarse en el directorio creado en el paso 2. \n",
    "Crear el archivo test1.txt\n",
    "Guardar el texto Hola GBI6 en un archivo test2.txt\n",
    "Guardar la instrucción print(\"Hola GBI6\")  en el archivo test1.py\n",
    "Luego seleccione la instrucción que permite enlistar el contenido (incluyendo detalles) del directorio test1\n",
    "\n",
    "<img src=\"data/imagenes/eje.png\" width=600 height=450 />\n",
    "<img src=\"data/imagenes/3.png\" width=600 height=450 />\n",
    "\n",
    "\n",
    "\n",
    "## Ejercicio 4\n",
    "Escriba aquí el enunciado\n"
   ]
  },
  {
   "cell_type": "code",
   "execution_count": 7,
   "metadata": {},
   "outputs": [
    {
     "data": {
      "text/html": [
       "<iframe width=\"560\" height=\"315\" src=\"https://www.youtube.com/embed/9ck5iEP03g4\" title=\"YouTube video player\" frameborder=\"0\" allow=\"accelerometer; autoplay; clipboard-write; encrypted-media; gyroscope; picture-in-picture\" allowfullscreen></iframe>"
      ],
      "text/plain": [
       "<IPython.core.display.HTML object>"
      ]
     },
     "execution_count": 7,
     "metadata": {},
     "output_type": "execute_result"
    }
   ],
   "source": [
    "# Coloque aquí su video del ejercicio 4\n",
    "from IPython.display import HTML\n",
    "HTML('<iframe width=\"560\" height=\"315\" src=\"https://www.youtube.com/embed/9ck5iEP03g4\" title=\"YouTube video player\" frameborder=\"0\" allow=\"accelerometer; autoplay; clipboard-write; encrypted-media; gyroscope; picture-in-picture\" allowfullscreen></iframe>')\n"
   ]
  },
  {
   "cell_type": "markdown",
   "metadata": {
    "jp-MarkdownHeadingCollapsed": true,
    "tags": []
   },
   "source": [
    "\n",
    "## Ejercicio 5\n",
    "Escriba aquí el enunciado\n"
   ]
  },
  {
   "cell_type": "code",
   "execution_count": 5,
   "metadata": {},
   "outputs": [
    {
     "data": {
      "text/html": [
       "<iframe width=\"560\" height=\"315\" src=\"https://www.youtube.com/embed/3XlZWpLwvvo\" title=\"YouTube video player\" frameborder=\"0\" allow=\"accelerometer; autoplay; clipboard-write; encrypted-media; gyroscope; picture-in-picture\" allowfullscreen></iframe>"
      ],
      "text/plain": [
       "<IPython.core.display.HTML object>"
      ]
     },
     "execution_count": 5,
     "metadata": {},
     "output_type": "execute_result"
    }
   ],
   "source": [
    "# Coloque aquí su video del ejercicio 5\n",
    "from IPython.display import HTML\n",
    "HTML('<iframe width=\"560\" height=\"315\" src=\"https://www.youtube.com/embed/3XlZWpLwvvo\" title=\"YouTube video player\" frameborder=\"0\" allow=\"accelerometer; autoplay; clipboard-write; encrypted-media; gyroscope; picture-in-picture\" allowfullscreen></iframe>')\n"
   ]
  },
  {
   "cell_type": "markdown",
   "metadata": {
    "jp-MarkdownHeadingCollapsed": true,
    "tags": []
   },
   "source": [
    "# 2. CONTROL DE LA VERSIÓN\n",
    "## Pregunta 6\n",
    "1. Cree en GitHub un repositorio de nombre ```GBI6_ExamenParcial1```. \n",
    "2. Cree un archivo ```Readme.md``` que debe tener lo siguiente: \n",
    "- Datos personales\n",
    "- Características del computador\n",
    "- Programas utilizados\n",
    "- Explicación de la data utilizada\n",
    "\n",
    "\n",
    "## Pregunta 7\n",
    "1. Cada vez que resuelva un ejercicio (del 1 al 10), utilizando Git Bash, GitHub Desktop o Atom realice un *git push* con el mensaje: \n",
    "\n",
    "\n",
    "<font color='red'>Apellido Nombre ha resuelto el ejercicio 1</font> % Cambie con sus apellidos y nombres; y con el número de ejercicio que corresponda \n",
    "\n",
    "2. Coloque aquí las capturas de pantalla para cada git push realizado desde Git Bash, GitHub Desktop o Atom. \n",
    "\n",
    "- Control de versión ejercicio 1\n",
    "\n",
    "<img src=\"data/imagenes/1.1.png\" width=600 height=450 />\n",
    "\n",
    "- Control de versión ejercicio 2\n",
    "\n",
    "<img src=\"data/imagenes/con2.png\" width=600 height=450 />\n",
    "\n",
    "- Control de versión ejercicio 3\n",
    "\n",
    "<img src=\"data/imagenes/con3.png\" width=600 height=450 />\n",
    "\n",
    "- Control de versión ejercicio 8\n",
    "\n",
    "<img src=\"data/imagenes/con8.png\" width=600 height=450 />\n",
    "\n",
    "- Control de versión ejercicio 9\n",
    "\n",
    "<img src=\"data/imagenes/con9.png\" width=600 height=450 />\n",
    "\n",
    "- Control de versión ejercicio 10\n",
    "\n",
    "<img src=\"data/imagenes/con10.png\" width=600 height=450 />\n",
    "\n",
    "\n",
    "3. Cree un directorio de nombre ```data``` donde deben estar guardados: (i) la data utilizada y (ii) las capturas de pantalla de los ejercicios 1 al 3 y los git push del ejercicio 1 al 10 (en total debe tener 13 imágenes). \n",
    "4. Inserte aquí el enlace de su repositorio (válido para el ejercicio 6 y 7): [GitHub Repository: https://github.com/nurymabell04/Examen-I.git"
   ]
  },
  {
   "cell_type": "markdown",
   "metadata": {
    "tags": []
   },
   "source": [
    "# 3. INTRODUCCIÓN A PYTHON\n",
    "\n",
    "## Ejercicio 8\n",
    "\n",
    "Crear un diccionario de nombre dic_genomas, donde se tenga la información de la tabla 1 que se encuentra en https://www.nature.com/scitable/topicpage/eukaryotic-genome-complexity-437/. \n",
    "Utilice como \"key\" los valores especie de la columna \"Species and Common Name\" y las otras dos columnas ingrese como \"values\". \n",
    "Luego de crear el diccionario, extraiga los valores de \"key\" a una lista de nombre \"especies\"\n",
    "Extraiga los valores de \"value\" a una lista de nombre \"genomas\""
   ]
  },
  {
   "cell_type": "code",
   "execution_count": 1,
   "metadata": {},
   "outputs": [
    {
     "name": "stdout",
     "output_type": "stream",
     "text": [
      "especies dict_keys(['Saccharomyces cerevisiae', 'tricomonas vaginalis', 'Plasmodium falciparum', 'Caenorhabditis', 'Drosophila melanogaster', 'Arabidopsis thaliana', ' Oryza sativa', 'Gallus gallus', 'Canis familiaris', 'Mus musculus', 'Homo sapiens'])\n",
      "genomas dict_values([[{'Tamaño total estimado del genoma pb': '12 millones', 'Número estimado de genes que codifican proteínas': '6,000'}], [{'Tamaño total estimado del genoma pb': '160 millones', 'Número estimado de genes que codifican proteínas': '60.000'}], [{'Tamaño total estimado del genoma pb': '23 millones', 'Número estimado de genes que codifican proteínas': '5,000'}], [{'Tamaño total estimado del genoma pb': '95.5 millones', 'Número estimado de genes que codifican proteínas': '18,000'}], [{'Tamaño total estimado del genoma pb': '170 millones', 'Número estimado de genes que codifican proteínas': '14,000'}], [{'Tamaño total estimado del genoma pb': '125 millones', 'Número estimado de genes que codifican proteínas': '25,000'}], [{'Tamaño total estimado del genoma pb': '470 millones', 'Número estimado de genes que codifican proteínas': '51,000'}], [{'Tamaño total estimado del genoma pb': '1 mil millones', 'Número estimado de genes que codifican proteínas': '20,000-23,000'}], [{'Tamaño total estimado del genoma pb': '2.4 mil millones', 'Número estimado de genes que codifican proteínas': '19,000'}], [{'Tamaño total estimado del genoma pb': '2.5 billones', 'Número estimado de genes que codifican proteínas': '30,000'}], [{'Tamaño total estimado del genoma pb': '2.9 mil millones', 'Número estimado de genes que codifican proteínas': '20,000-25,000'}]])\n"
     ]
    }
   ],
   "source": [
    "dic_genomas = {\n",
    "    \"Saccharomyces cerevisiae\": [\n",
    "        {\"Tamaño total estimado del genoma pb\": \"12 millones\", \"Número estimado de genes que codifican proteínas\": \"6,000\"},\n",
    "    ],\n",
    "    \"tricomonas vaginalis\": [\n",
    "        {\"Tamaño total estimado del genoma pb\": \"160 millones\", \"Número estimado de genes que codifican proteínas\": \"60.000\"},\n",
    "    ],\n",
    "    \"Plasmodium falciparum\": [\n",
    "        {\"Tamaño total estimado del genoma pb\": \"23 millones\", \"Número estimado de genes que codifican proteínas\": \"5,000\"},\n",
    "    ],\n",
    "    \"Caenorhabditis\": [\n",
    "        {\"Tamaño total estimado del genoma pb\": \"95.5 millones\", \"Número estimado de genes que codifican proteínas\": \"18,000\"},\n",
    "    ],\n",
    "    \"Drosophila melanogaster\": [\n",
    "        {\"Tamaño total estimado del genoma pb\": \"170 millones\", \"Número estimado de genes que codifican proteínas\": \"14,000\"},\n",
    "    ],\n",
    "    \"Arabidopsis thaliana\": [\n",
    "        {\"Tamaño total estimado del genoma pb\": \"125 millones\", \"Número estimado de genes que codifican proteínas\": \"25,000\"},\n",
    "    ],\n",
    "    \" Oryza sativa\": [\n",
    "        {\"Tamaño total estimado del genoma pb\": \"470 millones\", \"Número estimado de genes que codifican proteínas\": \"51,000\"},\n",
    "    ],\n",
    "    \"Gallus gallus\": [\n",
    "        {\"Tamaño total estimado del genoma pb\": \"1 mil millones\", \"Número estimado de genes que codifican proteínas\": \"20,000-23,000\"},\n",
    "    ],\n",
    "    \"Canis familiaris\": [\n",
    "        {\"Tamaño total estimado del genoma pb\": \"2.4 mil millones\", \"Número estimado de genes que codifican proteínas\": \"19,000\"},\n",
    "    ],\n",
    "    \"Mus musculus\": [\n",
    "        {\"Tamaño total estimado del genoma pb\": \"2.5 billones\", \"Número estimado de genes que codifican proteínas\": \"30,000\"},\n",
    "    ],\n",
    "    \"Homo sapiens\": [\n",
    "        {\"Tamaño total estimado del genoma pb\": \"2.9 mil millones\", \"Número estimado de genes que codifican proteínas\": \"20,000-25,000\"},\n",
    "    ], \n",
    "}\n",
    "\n",
    "\n",
    "print(\"especies\", dic_genomas.keys())\n",
    "                                                                                                                          \n",
    "print(\"genomas\", dic_genomas.values())\n"
   ]
  },
  {
   "cell_type": "markdown",
   "metadata": {},
   "source": [
    "## Ejercicio 9\n",
    "\n",
    "Crear un diccionario de nombre dic_aminoacidos, donde se tenga la información de la tabla que se encuentra en http://www.russelllab.org/aas/aas.html. \n",
    "Utilice como \"key\" los valores de la columna \"AA\" y las columnas \"Hits\" y \"%Abundance\" como \"values\". \n",
    "Luego de crear el diccionario, extraiga los valores de \"key\" a una lista de nombre \"aminoacidos\"\n",
    "Extraiga los valores de \"value\" a una lista de nombre \"propiedades\""
   ]
  },
  {
   "cell_type": "code",
   "execution_count": 2,
   "metadata": {},
   "outputs": [
    {
     "name": "stdout",
     "output_type": "stream",
     "text": [
      "Aminoacidos dict_keys(['trp', 'Cys', 'His', 'Arg', 'Met', 'Tyr', 'Gln', 'Phe', 'Asp', 'Pro', 'Ala', 'Asn', 'Lys', 'Glu', 'Gly', 'Thr', 'Val', 'lle', 'Ser', 'Leu'])\n",
      "Propiedades dict_values([[{'hits': '1550', '%Abundance': '1.34'}], [{'hits': '1905', '%Abundance': '1.76'}], [{'hits': '1695', '%Abundance': '2.26'}], [{'hits': '3093', '%Abundance': '5.20'}], [{'hits': '1102', '%Abundance': '2.32'}], [{'hits': '1525', '%Abundance': '3.25'}], [{'hits': '1830', '%Abundance': '3.96'}], [{'hits': '1616', '%Abundance': '4.12'}], [{'hits': '1691', '%Abundance': '5.12'}], [{'hits': '1598', '%Abundance': '5.00'}], [{'hits': '2018', '%Abundance': '7.34'}], [{'hits': '1103', '%Abundance': '4.57'}], [{'hits': '1366', '%Abundance': '5.81'}], [{'hits': '1471', '%Abundance': '6.22'}], [{'hits': '1386', '%Abundance': '6.89'}], [{'hits': '1147', '%Abundance': '5.85'}], [{'hits': '1225', '%Abundance': '6.48'}], [{'hits': '1033', '%Abundance': '5.76'}], [{'hits': '1206', '%Abundance': '7.38'}], [{'hits': '1127', '%Abundance': '9.36'}]])\n"
     ]
    }
   ],
   "source": [
    "dic_aminoacidos = {\n",
    "    \"trp\": [\n",
    "        {\"hits\": \"1550\", \"%Abundance\": \"1.34\"},\n",
    "    ],\n",
    "    \"Cys\": [\n",
    "        {\"hits\": \"1905\", \"%Abundance\": \"1.76\"},\n",
    "    ],\n",
    "    \"His\": [\n",
    "        {\"hits\": \"1695\", \"%Abundance\": \"2.26\"},\n",
    "    ],\n",
    "    \"Arg\": [\n",
    "        {\"hits\": \"3093\", \"%Abundance\": \"5.20\"},\n",
    "    ],\n",
    "    \"Met\": [\n",
    "        {\"hits\": \"1102\", \"%Abundance\": \"2.32\"},\n",
    "    ],\n",
    "    \"Tyr\": [\n",
    "        {\"hits\": \"1525\", \"%Abundance\": \"3.25\"},\n",
    "    ],\n",
    "    \"Gln\": [\n",
    "        {\"hits\": \"1830\", \"%Abundance\": \"3.96\"},\n",
    "    ],\n",
    "    \"Phe\": [\n",
    "        {\"hits\": \"1616\", \"%Abundance\": \"4.12\"},\n",
    "    ],\n",
    "    \"Asp\": [\n",
    "        {\"hits\": \"1691\", \"%Abundance\": \"5.12\"},\n",
    "    ],\n",
    "    \"Pro\": [\n",
    "        {\"hits\": \"1598\", \"%Abundance\": \"5.00\"},\n",
    "    ],\n",
    "    \"Ala\": [\n",
    "        {\"hits\": \"2018\", \"%Abundance\": \"7.34\"},\n",
    "    ],\n",
    "    \"Asn\": [\n",
    "        {\"hits\": \"1103\", \"%Abundance\": \"4.57\"},\n",
    "    ],\n",
    "    \"Lys\": [\n",
    "        {\"hits\": \"1366\", \"%Abundance\": \"5.81\"},\n",
    "    ],\n",
    "    \"Glu\": [\n",
    "        {\"hits\": \"1471\", \"%Abundance\": \"6.22\"},\n",
    "    ],\n",
    "    \"Gly\": [\n",
    "        {\"hits\": \"1386\", \"%Abundance\": \"6.89\"},\n",
    "    ],\n",
    "    \"Thr\": [\n",
    "        {\"hits\": \"1147\", \"%Abundance\": \"5.85\"},\n",
    "    ],\n",
    "    \"Val\": [\n",
    "        {\"hits\": \"1225\", \"%Abundance\": \"6.48\"},\n",
    "    ],\n",
    "    \"lle\": [\n",
    "        {\"hits\": \"1033\", \"%Abundance\": \"5.76\"},\n",
    "    ],\n",
    "    \"Ser\": [\n",
    "        {\"hits\": \"1206\", \"%Abundance\": \"7.38\"},\n",
    "    ],\n",
    "    \"Leu\": [\n",
    "        {\"hits\": \"1127\", \"%Abundance\": \"9.36\"},\n",
    "    ],\n",
    "    \n",
    "}\n",
    "\n",
    "\n",
    "print(\"Aminoacidos\", dic_aminoacidos.keys())\n",
    "print(\"Propiedades\", dic_aminoacidos.values())\n"
   ]
  },
  {
   "cell_type": "markdown",
   "metadata": {},
   "source": [
    "## Ejercicio 10\n",
    "\n",
    "Descargue la data \"SI Table 1\" (10080Table1.xls) de la página https://www.pnas.org/content/suppl/2006/12/27/0610080104.DC1. Esta data corresponde a algunas características de sueño de mamíferos. Seleccione los 10 primeros registros de la columna \"Total sleep time, hr\" y cree una lista de nombre lista1."
   ]
  },
  {
   "cell_type": "code",
   "execution_count": 6,
   "metadata": {},
   "outputs": [
    {
     "name": "stdout",
     "output_type": "stream",
     "text": [
      "[14.9, 9.1]\n",
      "None ikiam\n",
      "13.08\n",
      "13.079999999999998\n",
      "10.1\n",
      "None 13\n"
     ]
    }
   ],
   "source": [
    "lista1 = [8.6, 18, 19.4, 13.7, 11.1, 10.1, 10.3, 15.6, 14.9, 9.1 ]\n",
    "print(lista1[8:])\n",
    "print(lista1.append([\"gbi6\", \"bio1\", \"ikiam\"]),lista1[-1][2])\n",
    "lista1 = [8.6, 18, 19.4, 13.7, 11.1, 10.1, 10.3, 15.6, 14.9, 9.1 ]\n",
    "print(round(sum(lista1)/len(lista1),3))\n",
    "lista1 = [8.6, 18, 19.4, 13.7, 11.1, 10.1, 10.3, 15.6, 14.9, 9.1 ]\n",
    "print(sum(lista1)/len(lista1))\n",
    "print(lista1[5])\n",
    "print(lista1.extend([\"gbi6\", \"bio1\", \"ikiam\"]),len(lista1))\n"
   ]
  },
  {
   "cell_type": "code",
   "execution_count": null,
   "metadata": {},
   "outputs": [],
   "source": []
  }
 ],
 "metadata": {
  "kernelspec": {
   "display_name": "Python 3 (ipykernel)",
   "language": "python",
   "name": "python3"
  },
  "language_info": {
   "codemirror_mode": {
    "name": "ipython",
    "version": 3
   },
   "file_extension": ".py",
   "mimetype": "text/x-python",
   "name": "python",
   "nbconvert_exporter": "python",
   "pygments_lexer": "ipython3",
   "version": "3.9.7"
  },
  "latex_envs": {
   "LaTeX_envs_menu_present": true,
   "autoclose": false,
   "autocomplete": true,
   "bibliofile": "biblio.bib",
   "cite_by": "apalike",
   "current_citInitial": 1,
   "eqLabelWithNumbers": true,
   "eqNumInitial": 1,
   "hotkeys": {
    "equation": "Ctrl-E",
    "itemize": "Ctrl-I"
   },
   "labels_anchors": false,
   "latex_user_defs": false,
   "report_style_numbering": false,
   "user_envs_cfg": false
  },
  "toc": {
   "base_numbering": 1,
   "nav_menu": {},
   "number_sections": true,
   "sideBar": false,
   "skip_h1_title": false,
   "title_cell": "Table of Contents",
   "title_sidebar": "Contents",
   "toc_cell": false,
   "toc_position": {
    "height": "1152.67px",
    "left": "41px",
    "top": "110px",
    "width": "253.458px"
   },
   "toc_section_display": true,
   "toc_window_display": false
  },
  "varInspector": {
   "cols": {
    "lenName": 16,
    "lenType": 16,
    "lenVar": 40
   },
   "kernels_config": {
    "python": {
     "delete_cmd_postfix": "",
     "delete_cmd_prefix": "del ",
     "library": "var_list.py",
     "varRefreshCmd": "print(var_dic_list())"
    },
    "r": {
     "delete_cmd_postfix": ") ",
     "delete_cmd_prefix": "rm(",
     "library": "var_list.r",
     "varRefreshCmd": "cat(var_dic_list()) "
    }
   },
   "types_to_exclude": [
    "module",
    "function",
    "builtin_function_or_method",
    "instance",
    "_Feature"
   ],
   "window_display": false
  }
 },
 "nbformat": 4,
 "nbformat_minor": 4
}
